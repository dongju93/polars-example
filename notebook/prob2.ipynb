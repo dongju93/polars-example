{
 "cells": [
  {
   "cell_type": "markdown",
   "metadata": {
    "vscode": {
     "languageId": "plaintext"
    }
   },
   "source": [
    "## 데이터 삽입\n",
    "\n",
    "2. 조건을 만족하는 행 다음에 새로운 행 삽입\n"
   ]
  },
  {
   "cell_type": "code",
   "execution_count": null,
   "metadata": {},
   "outputs": [],
   "source": [
    "import polars as pl"
   ]
  },
  {
   "cell_type": "code",
   "execution_count": null,
   "metadata": {},
   "outputs": [],
   "source": [
    "df = pl.read_csv(\"../sample-data/MOCK_DATA.csv\")\n",
    "df.head()"
   ]
  },
  {
   "cell_type": "code",
   "execution_count": null,
   "metadata": {},
   "outputs": [],
   "source": [
    "# 삽입할 새로운 행\n",
    "new_row_df = pl.DataFrame(\n",
    "    [\n",
    "        {\n",
    "            \"id\": 100,\n",
    "            \"first_name\": \"John\",\n",
    "            \"last_name\": \"Doe\",\n",
    "            \"email\": \"johndoe@example.com\",\n",
    "            \"gender\": \"Male\",\n",
    "            \"ip_address\": \"192.168.1.1\",\n",
    "        }\n",
    "    ]\n",
    ")"
   ]
  },
  {
   "cell_type": "code",
   "execution_count": null,
   "metadata": {},
   "outputs": [],
   "source": [
    "\"\"\"\n",
    "2-1. 열의 특정 값과 정확히 일치하는 행을 찾아 그 다음 행에 삽입\n",
    "\"\"\"\n",
    "\n",
    "# 인덱스 추가\n",
    "df_with_row_idx = df.with_row_index()\n",
    "\n",
    "# 모든 Deanne의 인덱스 찾기\n",
    "match_indices = (\n",
    "    df_with_row_idx.filter(pl.col(\"first_name\") == \"Deanne\")\n",
    "    .select(\"index\")\n",
    "    .to_series()\n",
    "    .to_list()\n",
    ")\n",
    "\n",
    "# 찾은 인덱스들을 기준으로 그 다음 인덱스에 새로운 행을 삽입\n",
    "result = df\n",
    "\"\"\"\n",
    "인덱스를 기준 데이터를 포함하는 행까지 upper 에 할당,\n",
    "이후 데이터를 lower 에 할당하여 upper + new_row + lower 를 반환\n",
    "\"\"\"\n",
    "for idx in sorted(match_indices, reverse=True):\n",
    "    upper = result.slice(0, idx + 1)\n",
    "    lower = result.slice(idx + 1, None)\n",
    "    # concat 된 결과는 반복 시 slice 에서 호출됨\n",
    "    result = pl.concat([upper, new_row_df, lower])\n",
    "\n",
    "result.head()"
   ]
  },
  {
   "cell_type": "code",
   "execution_count": null,
   "metadata": {},
   "outputs": [],
   "source": []
  }
 ],
 "metadata": {
  "kernelspec": {
   "display_name": ".venv",
   "language": "python",
   "name": "python3"
  },
  "language_info": {
   "codemirror_mode": {
    "name": "ipython",
    "version": 3
   },
   "file_extension": ".py",
   "mimetype": "text/x-python",
   "name": "python",
   "nbconvert_exporter": "python",
   "pygments_lexer": "ipython3",
   "version": "3.12.7"
  }
 },
 "nbformat": 4,
 "nbformat_minor": 2
}
