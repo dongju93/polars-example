{
 "cells": [
  {
   "cell_type": "markdown",
   "metadata": {},
   "source": [
    "## 데이터 삽입\n",
    "\n",
    "1. 특정 인덱스 위치에 새로운 행 삽입\n"
   ]
  },
  {
   "cell_type": "code",
   "execution_count": null,
   "metadata": {},
   "outputs": [],
   "source": [
    "import polars as pl"
   ]
  },
  {
   "cell_type": "code",
   "execution_count": null,
   "metadata": {},
   "outputs": [],
   "source": [
    "df = pl.read_csv(\"../sample-data/MOCK_DATA.csv\")"
   ]
  },
  {
   "cell_type": "code",
   "execution_count": null,
   "metadata": {},
   "outputs": [],
   "source": [
    "\"\"\"\n",
    "1-1. 원하는 index 위치에 새로운 행을 삽입하는 방법\n",
    "\"\"\"\n",
    "\n",
    "# 삽입할 새로운 행 데이터\n",
    "new_row = {\n",
    "    \"id\": 6,\n",
    "    \"first_name\": \"John\",\n",
    "    \"last_name\": \"Doe\",\n",
    "    \"email\": \"johndoe@example.com\",\n",
    "    \"gender\": \"Male\",\n",
    "    \"ip_address\": \"192.168.1.1\",\n",
    "}\n",
    "\n",
    "# 삽입하고 싶은 위치 (예: 인덱스 2에 삽입)\n",
    "insert_index = 2\n",
    "\n",
    "# 데이터프레임 분할\n",
    "upper = df.slice(0, insert_index)\n",
    "lower = df.slice(insert_index, None)\n",
    "\n",
    "# 새로운 행을 데이터프레임으로 변환\n",
    "new_row_df = pl.DataFrame([new_row])\n",
    "\n",
    "# 분할된 데이터프레임과 새로운 행을 연결\n",
    "result_df = pl.concat([upper, new_row_df, lower])"
   ]
  },
  {
   "cell_type": "code",
   "execution_count": null,
   "metadata": {},
   "outputs": [],
   "source": [
    "\"\"\"\n",
    "1-2. 마지막 행에 새로운 행을 삽입하는 방법\n",
    "\"\"\"\n",
    "\n",
    "# 삽입할 새로운 행 데이터\n",
    "new_row = {\n",
    "    \"id\": 200,\n",
    "    \"first_name\": \"John\",\n",
    "    \"last_name\": \"Doe\",\n",
    "    \"email\": \"johndoe@example.com\",\n",
    "    \"gender\": \"Male\",\n",
    "    \"ip_address\": \"192.168.1.1\",\n",
    "}\n",
    "\n",
    "# 딕셔너리를 DataFrame으로 변환\n",
    "new_row_df = pl.DataFrame([new_row])\n",
    "\n",
    "\"\"\"\n",
    "extend 사용 시 직접 원본 데이터를 수정\n",
    "vstack 사용 시 원본 데이터를 수정하지 않고 새로운 데이터프레임을 반환하므로 새로운 변수에 할당해야 함\n",
    "\"\"\"\n",
    "result_df.extend(new_row_df)"
   ]
  },
  {
   "cell_type": "code",
   "execution_count": null,
   "metadata": {},
   "outputs": [],
   "source": [
    "\"\"\"\n",
    "1-3. 첫 행에 새로운 행을 삽입하는 방법\n",
    "\"\"\"\n",
    "\n",
    "# 새로운 행을 먼저 DataFrame으로 생성\n",
    "new_row_df = pl.DataFrame(\n",
    "    [\n",
    "        {\n",
    "            \"id\": 123,\n",
    "            \"first_name\": \"John\",\n",
    "            \"last_name\": \"Doe\",\n",
    "            \"email\": \"johndoe@example.com\",\n",
    "            \"gender\": \"Male\",\n",
    "            \"ip_address\": \"192.168.1.1\",\n",
    "        }\n",
    "    ]\n",
    ")\n",
    "\n",
    "# new df 에 기존 df를 extend\n",
    "new_row_df.extend(result_df)"
   ]
  }
 ],
 "metadata": {
  "kernelspec": {
   "display_name": ".venv",
   "language": "python",
   "name": "python3"
  },
  "language_info": {
   "codemirror_mode": {
    "name": "ipython",
    "version": 3
   },
   "file_extension": ".py",
   "mimetype": "text/x-python",
   "name": "python",
   "nbconvert_exporter": "python",
   "pygments_lexer": "ipython3",
   "version": "3.12.7"
  }
 },
 "nbformat": 4,
 "nbformat_minor": 2
}
